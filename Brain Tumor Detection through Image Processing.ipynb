{
 "cells": [
  {
   "cell_type": "markdown",
   "id": "61403404",
   "metadata": {},
   "source": [
    "# **Brain Tumor Detection**\n",
    "### Author: Giuseppe Morgese\n",
    "The objective of the project is to detect, outline and compute the area and perimeter of brain tumors in different MRI images.\n",
    "It is necessary to point out that MRI images can be very different from each other depending on the type of MRI (T1,T2,FLAIR,...).\n",
    "Thus the images have been selected from a dataset containing images acquired with the same technique. In the case of MRI images without tumors, a simple message “No tumor detected” will be displayed."
   ]
  },
  {
   "cell_type": "code",
   "execution_count": null,
   "id": "e253308e",
   "metadata": {},
   "outputs": [],
   "source": [
    "import cv2 as cv\n",
    "import numpy as np\n",
    "from matplotlib import pyplot as plt\n",
    "%matplotlib inline"
   ]
  },
  {
   "cell_type": "markdown",
   "id": "c307901d",
   "metadata": {},
   "source": [
    "## Image loading\n",
    "The image is loaded as a grayscale image since it's not that different from the original one and it's easier to work with"
   ]
  },
  {
   "cell_type": "code",
   "execution_count": null,
   "id": "dd105d52",
   "metadata": {},
   "outputs": [],
   "source": [
    "img = cv.imread(\"brain_tumor_dataset/selected/Y4.jpg\", cv.IMREAD_GRAYSCALE)\n",
    "plt.imshow(img, cmap='gray', vmin=0, vmax=255)\n",
    "plt.show()\n",
    "\n",
    "X = img.shape[0] # image's height is used to scale the structuring elements utilized in morphology operations\n",
    "\n",
    "copy = np.copy(img) # it's a good practice to work on a copy rather than on the original image itself"
   ]
  },
  {
   "cell_type": "markdown",
   "id": "8851af83",
   "metadata": {},
   "source": [
    "## Original intensity histogram"
   ]
  },
  {
   "cell_type": "code",
   "execution_count": null,
   "id": "c8dfda79",
   "metadata": {},
   "outputs": [],
   "source": [
    "hist, bins = np.histogram(copy.flatten(),256,[0,256])\n",
    "plt.stem(hist, use_line_collection=True)\n",
    "plt.show()"
   ]
  },
  {
   "cell_type": "markdown",
   "id": "1a375545",
   "metadata": {},
   "source": [
    "## First enhancement\n",
    "Adding an image to its blurred version improves the intensity contrast and regions' homogeneity"
   ]
  },
  {
   "cell_type": "code",
   "execution_count": null,
   "id": "1d60a346",
   "metadata": {},
   "outputs": [],
   "source": [
    "blur = cv.GaussianBlur(copy,(5,5),2)\n",
    "enh = cv.add(copy,(cv.add(blur,-100))) # in order to avoid over-brightness of the image, blurred intensities are reduced\n",
    "plt.imshow(enh, cmap='gray', vmin=0, vmax=255),plt.title(\"FIRST ENHANCEMENT\")\n",
    "plt.show()"
   ]
  },
  {
   "cell_type": "markdown",
   "id": "80a835fd",
   "metadata": {},
   "source": [
    "## Intensity histogram after the first enhancement\n",
    "The histogram below shows how the number of pixels at high intensities increases"
   ]
  },
  {
   "cell_type": "code",
   "execution_count": 1,
   "id": "73c807e7",
   "metadata": {},
   "outputs": [
    {
     "ename": "NameError",
     "evalue": "name 'np' is not defined",
     "output_type": "error",
     "traceback": [
      "\u001b[1;31m---------------------------------------------------------------------------\u001b[0m",
      "\u001b[1;31mNameError\u001b[0m                                 Traceback (most recent call last)",
      "\u001b[1;32m~\\AppData\\Local\\Temp/ipykernel_4016/2195757006.py\u001b[0m in \u001b[0;36m<module>\u001b[1;34m\u001b[0m\n\u001b[1;32m----> 1\u001b[1;33m \u001b[0mhist2\u001b[0m\u001b[1;33m,\u001b[0m \u001b[0mbins2\u001b[0m \u001b[1;33m=\u001b[0m \u001b[0mnp\u001b[0m\u001b[1;33m.\u001b[0m\u001b[0mhistogram\u001b[0m\u001b[1;33m(\u001b[0m\u001b[0menh\u001b[0m\u001b[1;33m.\u001b[0m\u001b[0mflatten\u001b[0m\u001b[1;33m(\u001b[0m\u001b[1;33m)\u001b[0m\u001b[1;33m,\u001b[0m\u001b[1;36m256\u001b[0m\u001b[1;33m,\u001b[0m\u001b[1;33m[\u001b[0m\u001b[1;36m0\u001b[0m\u001b[1;33m,\u001b[0m\u001b[1;36m256\u001b[0m\u001b[1;33m]\u001b[0m\u001b[1;33m)\u001b[0m\u001b[1;33m\u001b[0m\u001b[1;33m\u001b[0m\u001b[0m\n\u001b[0m\u001b[0;32m      2\u001b[0m \u001b[0mplt\u001b[0m\u001b[1;33m.\u001b[0m\u001b[0mstem\u001b[0m\u001b[1;33m(\u001b[0m\u001b[0mhist2\u001b[0m\u001b[1;33m,\u001b[0m \u001b[0muse_line_collection\u001b[0m\u001b[1;33m=\u001b[0m\u001b[1;32mTrue\u001b[0m\u001b[1;33m)\u001b[0m\u001b[1;33m\u001b[0m\u001b[1;33m\u001b[0m\u001b[0m\n\u001b[0;32m      3\u001b[0m \u001b[0mplt\u001b[0m\u001b[1;33m.\u001b[0m\u001b[0mshow\u001b[0m\u001b[1;33m(\u001b[0m\u001b[1;33m)\u001b[0m\u001b[1;33m\u001b[0m\u001b[1;33m\u001b[0m\u001b[0m\n",
      "\u001b[1;31mNameError\u001b[0m: name 'np' is not defined"
     ]
    }
   ],
   "source": [
    "hist2, bins2 = np.histogram(enh.flatten(),256,[0,256])\n",
    "plt.stem(hist2, use_line_collection=True)\n",
    "plt.show()"
   ]
  },
  {
   "cell_type": "markdown",
   "id": "19ebe22e",
   "metadata": {},
   "source": [
    "## Denoising\n",
    "A median filter is preferred given its edges-preservation properties"
   ]
  },
  {
   "cell_type": "code",
   "execution_count": null,
   "id": "d8873c7e",
   "metadata": {},
   "outputs": [],
   "source": [
    "median = cv.medianBlur(enh,5)\n",
    "plt.imshow(median, cmap='gray', vmin=0, vmax=255),plt.title(\"DENOISED\")\n",
    "plt.show()"
   ]
  },
  {
   "cell_type": "markdown",
   "id": "29312c90",
   "metadata": {},
   "source": [
    "## Morphological Gradient"
   ]
  },
  {
   "cell_type": "code",
   "execution_count": null,
   "id": "ed35524a",
   "metadata": {},
   "outputs": [],
   "source": [
    "kernel = cv.getStructuringElement(cv.MORPH_CROSS,(3,3))\n",
    "gradient = cv.morphologyEx(median, cv.MORPH_GRADIENT, kernel)\n",
    "plt.imshow(gradient, cmap='gray', vmin=0, vmax=255),plt.title(\"MORPHOLOGICAL GRADIENT\")\n",
    "plt.show()"
   ]
  },
  {
   "cell_type": "markdown",
   "id": "ce1228a9",
   "metadata": {},
   "source": [
    "## Second enhancement\n",
    "Adding the morphological gradient further improves intensity contrast of edges"
   ]
  },
  {
   "cell_type": "code",
   "execution_count": null,
   "id": "925fb077",
   "metadata": {},
   "outputs": [],
   "source": [
    "enh2 = cv.add(median,gradient)\n",
    "plt.imshow(enh2, cmap='gray', vmin=0, vmax=255),plt.title(\"SECOND ENHANCEMENT\")\n",
    "plt.show()"
   ]
  },
  {
   "cell_type": "markdown",
   "id": "126cf2e2",
   "metadata": {},
   "source": [
    "## Intensity histogram after the second enhancement"
   ]
  },
  {
   "cell_type": "code",
   "execution_count": null,
   "id": "d750e9ce",
   "metadata": {},
   "outputs": [],
   "source": [
    "hist3, bins3 = np.histogram(enh2.flatten(),256,[0,256])\n",
    "plt.stem(hist3, use_line_collection=True)\n",
    "plt.show()"
   ]
  },
  {
   "cell_type": "markdown",
   "id": "7e748808",
   "metadata": {},
   "source": [
    "## First thresholding"
   ]
  },
  {
   "cell_type": "code",
   "execution_count": null,
   "id": "f924ebb7",
   "metadata": {},
   "outputs": [],
   "source": [
    "t = np.percentile(enh2,85) \n",
    "ret,th = cv.threshold(enh2, t, 255, cv.THRESH_BINARY)\n",
    "plt.imshow(th, cmap='gray', vmin=0, vmax=255),plt.title(\"FIRST THRESHOLDING\")\n",
    "plt.show()"
   ]
  },
  {
   "cell_type": "markdown",
   "id": "ed523950",
   "metadata": {},
   "source": [
    "## Morphology operations"
   ]
  },
  {
   "cell_type": "code",
   "execution_count": null,
   "id": "601be72a",
   "metadata": {},
   "outputs": [],
   "source": [
    "kernel_c = cv.getStructuringElement(cv.MORPH_ELLIPSE,(int((5*X)/100),int((5*X)/100))) #\n",
    "kernel_e = cv.getStructuringElement(cv.MORPH_ELLIPSE,(int((3*X)/100),int((3*X)/100))) #\n",
    "ker = cv.getStructuringElement(cv.MORPH_ELLIPSE,(int((7*X)/100),int((7*X)/100)))\n",
    "\n",
    "plt.figure(figsize=(10,10),constrained_layout = True)\n",
    "\n",
    "opening = cv.morphologyEx(th, cv.MORPH_OPEN, kernel_e) # to eliminate small uninteresting structures\n",
    "plt.subplot(221),plt.imshow(opening, cmap='gray', vmin=0, vmax=255),plt.title(\"1. FIRST OPENING\")\n",
    "\n",
    "closing = cv.morphologyEx(opening, cv.MORPH_CLOSE, kernel_c) # to merge the remaining structures that may have been divided\n",
    "plt.subplot(222),plt.imshow(closing, cmap='gray', vmin=0, vmax=255),plt.title(\"2. CLOSING\")\n",
    "\n",
    "erosion = cv.erode(closing,kernel_e,iterations = 1)\n",
    "plt.subplot(223),plt.imshow(erosion, cmap='gray', vmin=0, vmax=255),plt.title(\"3. FIRST EROSION\")\n",
    "\n",
    "dilation = cv.dilate(erosion,kernel_e,iterations = 1)\n",
    "plt.subplot(224),plt.imshow(dilation, cmap='gray', vmin=0, vmax=255),plt.title(\"4. DILATION\")"
   ]
  },
  {
   "cell_type": "markdown",
   "id": "57c1ccce",
   "metadata": {},
   "source": [
    "## Masking"
   ]
  },
  {
   "cell_type": "code",
   "execution_count": null,
   "id": "60a58384",
   "metadata": {},
   "outputs": [],
   "source": [
    "masked = cv.bitwise_and(copy, copy, mask=dilation)\n",
    "plt.imshow(masked, cmap='gray', vmin=0, vmax=255),plt.title(\"MASKED\")\n",
    "plt.show()"
   ]
  },
  {
   "cell_type": "markdown",
   "id": "71e221b2",
   "metadata": {},
   "source": [
    "## Second round of morphology operations"
   ]
  },
  {
   "cell_type": "code",
   "execution_count": null,
   "id": "2dbf2da6",
   "metadata": {},
   "outputs": [],
   "source": [
    "s_erosion = cv.erode(masked,kernel,iterations = 1)\n",
    "plt.subplot(121),plt.imshow(s_erosion, cmap='gray', vmin=0, vmax=255),plt.title(\"1. SECOND EROSION\")\n",
    "\n",
    "final = cv.morphologyEx(s_erosion, cv.MORPH_OPEN, ker)\n",
    "plt.subplot(122),plt.imshow(final, cmap='gray', vmin=0, vmax=255),plt.title(\"2. SECOND OPENING\")\n",
    "plt.show()"
   ]
  },
  {
   "cell_type": "markdown",
   "id": "de85b4fa",
   "metadata": {},
   "source": [
    "## Third enhancement"
   ]
  },
  {
   "cell_type": "code",
   "execution_count": null,
   "id": "4ae8446b",
   "metadata": {},
   "outputs": [],
   "source": [
    "blur3 = cv.GaussianBlur(final,(3,3),0)\n",
    "enh3 = cv.add(final,(cv.add(blur3,-100)))\n",
    "plt.imshow(enh3, cmap='gray', vmin=0, vmax=255),plt.title(\"THIRD ENHANCEMENT\")\n",
    "plt.show()"
   ]
  },
  {
   "cell_type": "markdown",
   "id": "3c5c0c86",
   "metadata": {},
   "source": [
    "## Second thresholding"
   ]
  },
  {
   "cell_type": "code",
   "execution_count": null,
   "id": "a91baff3",
   "metadata": {},
   "outputs": [],
   "source": [
    "upper = np.percentile(enh3,92)\n",
    "res = cv.inRange(enh3, 0, upper)\n",
    "plt.imshow(res, cmap='gray', vmin=0, vmax=255),plt.title(\"SECOND THRESHOLDING\")\n",
    "plt.show()"
   ]
  },
  {
   "cell_type": "markdown",
   "id": "e09daa3a",
   "metadata": {},
   "source": [
    "## Final morphology step"
   ]
  },
  {
   "cell_type": "code",
   "execution_count": null,
   "id": "cecc8063",
   "metadata": {},
   "outputs": [],
   "source": [
    "fin = cv.morphologyEx(res, cv.MORPH_CLOSE, cv.getStructuringElement(cv.MORPH_ELLIPSE,(int((7*X)/100),int((7*X)/100))))\n",
    "plt.imshow(fin, cmap='gray', vmin=0, vmax=255),plt.title(\"LAST CLOSING\")\n",
    "plt.show()"
   ]
  },
  {
   "cell_type": "markdown",
   "id": "ef4dba10",
   "metadata": {},
   "source": [
    "## Contouring\n",
    "In order to manage the contour found at the outer borders of the entire image, an if structure has been utilized.\n",
    "The outer contour is the result of morphology and masking operations performed on the image.\n",
    "Lastly the area and perimeter of the tumor is computed if detected."
   ]
  },
  {
   "cell_type": "code",
   "execution_count": null,
   "id": "01bbc821",
   "metadata": {},
   "outputs": [],
   "source": [
    "copy_rgb = cv.cvtColor(copy,cv.COLOR_BGR2RGB) # necessary step in order to print out the original image colors correctly\n",
    "\n",
    "contours, hierarchy = cv.findContours(fin, cv.RETR_TREE, cv.CHAIN_APPROX_SIMPLE)\n",
    "\n",
    "if len(contours) > 1:\n",
    "    cnt = contours[1]\n",
    "    if len(contours) > 2:\n",
    "        cv.drawContours(copy_rgb, contours, 2, (0,255,0), 3)\n",
    "        plt.imshow(copy_rgb),plt.title(\"DETECTED TUMOR\")\n",
    "        plt.show()\n",
    "    else:\n",
    "        cv.drawContours(copy_rgb, contours, 1, (0,255,0), 3)\n",
    "        plt.imshow(copy_rgb),plt.title(\"DETECTED TUMOR\")\n",
    "        plt.show()\n",
    "    \n",
    "    area = int(cv.contourArea(cnt))\n",
    "    perimeter = int(cv.arcLength(cnt,True))\n",
    "    \n",
    "    print(\"Area:\",area,\"px\")\n",
    "    print(\"Perimeter:\",perimeter,\"px\")\n",
    "else:\n",
    "    print(\"No tumor detected\")"
   ]
  }
 ],
 "metadata": {
  "authors": [
   {
    "name": "Giuseppe Morgese"
   }
  ],
  "kernelspec": {
   "display_name": "Python 3 (ipykernel)",
   "language": "python",
   "name": "python3"
  },
  "language_info": {
   "codemirror_mode": {
    "name": "ipython",
    "version": 3
   },
   "file_extension": ".py",
   "mimetype": "text/x-python",
   "name": "python",
   "nbconvert_exporter": "python",
   "pygments_lexer": "ipython3",
   "version": "3.9.7"
  },
  "title": "Brain Tumor Detection through Image Processing"
 },
 "nbformat": 4,
 "nbformat_minor": 5
}
